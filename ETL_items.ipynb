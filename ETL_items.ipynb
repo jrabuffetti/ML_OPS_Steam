{
 "cells": [
  {
   "cell_type": "markdown",
   "metadata": {},
   "source": [
    "Importamos las librerias a utilizar"
   ]
  },
  {
   "cell_type": "code",
   "execution_count": 14,
   "metadata": {},
   "outputs": [],
   "source": [
    "import pandas as pd\n",
    "from pandas import json_normalize\n",
    "import ast"
   ]
  },
  {
   "cell_type": "markdown",
   "metadata": {},
   "source": [
    "Abrimos el archivo 'australian_user_items.json'"
   ]
  },
  {
   "cell_type": "code",
   "execution_count": 15,
   "metadata": {},
   "outputs": [],
   "source": [
    "# Creamos una lista vacía para extraer los datos del JSON\n",
    "data_list = []\n",
    "\n",
    "# Asignamos la ruta del json a una variable\n",
    "file_path = \"datasets/australian_users_items.json\"\n",
    "\n",
    "# Abrimos y procesamos cada linea del JSON\n",
    "with open(file_path, 'r', encoding='utf-8') as file:\n",
    "    for line in file:\n",
    "        try:\n",
    "            # Usar ast.literal_eval para convertir la línea en un diccionario\n",
    "            json_data = ast.literal_eval(line)\n",
    "            data_list.append(json_data)\n",
    "        except ValueError as e:\n",
    "            print(f\"Error en la línea: {line}\")\n",
    "            continue\n",
    "\n",
    "# Creamos un dataframe en base a la lista creada\n",
    "items = pd.DataFrame(data_list)"
   ]
  },
  {
   "cell_type": "code",
   "execution_count": 16,
   "metadata": {},
   "outputs": [],
   "source": [
    "# Dividimos las listas en la columna 'items' de DataFrame 'items' en filas individuales\n",
    "items_exploded = items.explode(['items'])\n",
    "\n",
    "# Normalizamos los datos de items_exploded y le damos el mismo indice del dataframe original\n",
    "items_normalized = pd.json_normalize(items_exploded['items']).set_index(items_exploded['items'].index)\n",
    "\n",
    "# Concatenamos los dataframes items_exploded y \n",
    "items = pd.concat([items_normalized, items_exploded], axis=1)"
   ]
  },
  {
   "cell_type": "code",
   "execution_count": 17,
   "metadata": {},
   "outputs": [],
   "source": [
    "# Quitamos las columnas 'user_url' y 'steam_id' ya que no las vamos a utilizar\n",
    "items.drop(['user_url','steam_id'], axis=1, inplace=True)"
   ]
  },
  {
   "cell_type": "code",
   "execution_count": 18,
   "metadata": {},
   "outputs": [],
   "source": [
    "# Quitamos las filas donde item_id y playtime_forever estan vacías\n",
    "items = items.dropna(subset=['item_id'])\n",
    "items = items.dropna(subset=['playtime_forever'])"
   ]
  },
  {
   "cell_type": "code",
   "execution_count": 19,
   "metadata": {},
   "outputs": [],
   "source": [
    "# Quitamos las columnas 'items' y 'playtime_2weeks' ya que no las vamos a utilizar\n",
    "items.drop(['items','playtime_2weeks'], axis=1, inplace=True)"
   ]
  },
  {
   "cell_type": "code",
   "execution_count": 20,
   "metadata": {},
   "outputs": [],
   "source": [
    "# Quitamos las filas del dataframe donde 'playtime_forever' es igual a 0\n",
    "items = items[items['playtime_forever'] != 0]"
   ]
  },
  {
   "cell_type": "code",
   "execution_count": 21,
   "metadata": {},
   "outputs": [],
   "source": [
    "# Nos quedamos con las filas que consideramos mas utiles\n",
    "items = items[['user_id','item_id','playtime_forever', 'items_count', 'item_name']]"
   ]
  },
  {
   "cell_type": "code",
   "execution_count": 22,
   "metadata": {},
   "outputs": [
    {
     "data": {
      "text/html": [
       "<div>\n",
       "<style scoped>\n",
       "    .dataframe tbody tr th:only-of-type {\n",
       "        vertical-align: middle;\n",
       "    }\n",
       "\n",
       "    .dataframe tbody tr th {\n",
       "        vertical-align: top;\n",
       "    }\n",
       "\n",
       "    .dataframe thead th {\n",
       "        text-align: right;\n",
       "    }\n",
       "</style>\n",
       "<table border=\"1\" class=\"dataframe\">\n",
       "  <thead>\n",
       "    <tr style=\"text-align: right;\">\n",
       "      <th></th>\n",
       "      <th>user_id</th>\n",
       "      <th>item_id</th>\n",
       "      <th>playtime_forever</th>\n",
       "      <th>items_count</th>\n",
       "      <th>item_name</th>\n",
       "    </tr>\n",
       "  </thead>\n",
       "  <tbody>\n",
       "    <tr>\n",
       "      <th>0</th>\n",
       "      <td>76561197970982479</td>\n",
       "      <td>10</td>\n",
       "      <td>6.0</td>\n",
       "      <td>277</td>\n",
       "      <td>Counter-Strike</td>\n",
       "    </tr>\n",
       "    <tr>\n",
       "      <th>0</th>\n",
       "      <td>76561197970982479</td>\n",
       "      <td>30</td>\n",
       "      <td>7.0</td>\n",
       "      <td>277</td>\n",
       "      <td>Day of Defeat</td>\n",
       "    </tr>\n",
       "    <tr>\n",
       "      <th>0</th>\n",
       "      <td>76561197970982479</td>\n",
       "      <td>300</td>\n",
       "      <td>4733.0</td>\n",
       "      <td>277</td>\n",
       "      <td>Day of Defeat: Source</td>\n",
       "    </tr>\n",
       "    <tr>\n",
       "      <th>0</th>\n",
       "      <td>76561197970982479</td>\n",
       "      <td>240</td>\n",
       "      <td>1853.0</td>\n",
       "      <td>277</td>\n",
       "      <td>Counter-Strike: Source</td>\n",
       "    </tr>\n",
       "    <tr>\n",
       "      <th>0</th>\n",
       "      <td>76561197970982479</td>\n",
       "      <td>3830</td>\n",
       "      <td>333.0</td>\n",
       "      <td>277</td>\n",
       "      <td>Psychonauts</td>\n",
       "    </tr>\n",
       "  </tbody>\n",
       "</table>\n",
       "</div>"
      ],
      "text/plain": [
       "             user_id item_id  playtime_forever  items_count  \\\n",
       "0  76561197970982479      10               6.0          277   \n",
       "0  76561197970982479      30               7.0          277   \n",
       "0  76561197970982479     300            4733.0          277   \n",
       "0  76561197970982479     240            1853.0          277   \n",
       "0  76561197970982479    3830             333.0          277   \n",
       "\n",
       "                item_name  \n",
       "0          Counter-Strike  \n",
       "0           Day of Defeat  \n",
       "0   Day of Defeat: Source  \n",
       "0  Counter-Strike: Source  \n",
       "0             Psychonauts  "
      ]
     },
     "execution_count": 22,
     "metadata": {},
     "output_type": "execute_result"
    }
   ],
   "source": [
    "# Revisamos nuestro dataframe\n",
    "items.head()"
   ]
  },
  {
   "cell_type": "markdown",
   "metadata": {},
   "source": [
    "Verificamos si es necesario que la columna playtime_forever sea float, checkeando si alguna fila tiene algun valor decimal"
   ]
  },
  {
   "cell_type": "code",
   "execution_count": 23,
   "metadata": {},
   "outputs": [
    {
     "name": "stdout",
     "output_type": "stream",
     "text": [
      "Todos los valores después de la coma son cero.\n"
     ]
    }
   ],
   "source": [
    "# Calculamos la parte decimal de los valores en la columna 'playtime_forever'\n",
    "parte_decimal = items['playtime_forever'].apply(lambda x: x - int(x))\n",
    "\n",
    "# Verificar si todos los valores de la parte decimal son cero\n",
    "todos_ceros = parte_decimal.eq(0).all()\n",
    "\n",
    "if todos_ceros:\n",
    "    print(\"Todos los valores después de la coma son cero.\")\n",
    "else:\n",
    "    print(\"Al menos un valor después de la coma no es cero.\")"
   ]
  },
  {
   "cell_type": "code",
   "execution_count": 24,
   "metadata": {},
   "outputs": [],
   "source": [
    "# La columna playtime_forever se refiere a minutos. Vamos a cambiarlo a horas, para que sea mas útil manejarlo a futuro y lo redondeamos a dos decimales\n",
    "items['playtime_forever'] = round(items['playtime_forever']/60,2)\n",
    "\n",
    "# Convertir la columna 'id' de float a int en el DataFrame original\n",
    "items['item_id'] = items['item_id'].astype(int)"
   ]
  },
  {
   "cell_type": "code",
   "execution_count": 25,
   "metadata": {},
   "outputs": [
    {
     "data": {
      "text/html": [
       "<div>\n",
       "<style scoped>\n",
       "    .dataframe tbody tr th:only-of-type {\n",
       "        vertical-align: middle;\n",
       "    }\n",
       "\n",
       "    .dataframe tbody tr th {\n",
       "        vertical-align: top;\n",
       "    }\n",
       "\n",
       "    .dataframe thead th {\n",
       "        text-align: right;\n",
       "    }\n",
       "</style>\n",
       "<table border=\"1\" class=\"dataframe\">\n",
       "  <thead>\n",
       "    <tr style=\"text-align: right;\">\n",
       "      <th></th>\n",
       "      <th>user_id</th>\n",
       "      <th>item_id</th>\n",
       "      <th>playtime_forever</th>\n",
       "      <th>items_count</th>\n",
       "      <th>item_name</th>\n",
       "    </tr>\n",
       "  </thead>\n",
       "  <tbody>\n",
       "    <tr>\n",
       "      <th>0</th>\n",
       "      <td>76561197970982479</td>\n",
       "      <td>10</td>\n",
       "      <td>0.10</td>\n",
       "      <td>277</td>\n",
       "      <td>Counter-Strike</td>\n",
       "    </tr>\n",
       "    <tr>\n",
       "      <th>0</th>\n",
       "      <td>76561197970982479</td>\n",
       "      <td>30</td>\n",
       "      <td>0.12</td>\n",
       "      <td>277</td>\n",
       "      <td>Day of Defeat</td>\n",
       "    </tr>\n",
       "    <tr>\n",
       "      <th>0</th>\n",
       "      <td>76561197970982479</td>\n",
       "      <td>300</td>\n",
       "      <td>78.88</td>\n",
       "      <td>277</td>\n",
       "      <td>Day of Defeat: Source</td>\n",
       "    </tr>\n",
       "    <tr>\n",
       "      <th>0</th>\n",
       "      <td>76561197970982479</td>\n",
       "      <td>240</td>\n",
       "      <td>30.88</td>\n",
       "      <td>277</td>\n",
       "      <td>Counter-Strike: Source</td>\n",
       "    </tr>\n",
       "    <tr>\n",
       "      <th>0</th>\n",
       "      <td>76561197970982479</td>\n",
       "      <td>3830</td>\n",
       "      <td>5.55</td>\n",
       "      <td>277</td>\n",
       "      <td>Psychonauts</td>\n",
       "    </tr>\n",
       "  </tbody>\n",
       "</table>\n",
       "</div>"
      ],
      "text/plain": [
       "             user_id  item_id  playtime_forever  items_count  \\\n",
       "0  76561197970982479       10              0.10          277   \n",
       "0  76561197970982479       30              0.12          277   \n",
       "0  76561197970982479      300             78.88          277   \n",
       "0  76561197970982479      240             30.88          277   \n",
       "0  76561197970982479     3830              5.55          277   \n",
       "\n",
       "                item_name  \n",
       "0          Counter-Strike  \n",
       "0           Day of Defeat  \n",
       "0   Day of Defeat: Source  \n",
       "0  Counter-Strike: Source  \n",
       "0             Psychonauts  "
      ]
     },
     "execution_count": 25,
     "metadata": {},
     "output_type": "execute_result"
    }
   ],
   "source": [
    "# Vemos el estado de nuestro dataframe\n",
    "items.head()"
   ]
  },
  {
   "cell_type": "code",
   "execution_count": 26,
   "metadata": {},
   "outputs": [],
   "source": [
    "# Exportamos nuestro dataframe en formato parquet\n",
    "items.to_parquet(\"datasets/Parquet/items.parquet\", index=False)"
   ]
  }
 ],
 "metadata": {
  "kernelspec": {
   "display_name": "Python 3",
   "language": "python",
   "name": "python3"
  },
  "language_info": {
   "codemirror_mode": {
    "name": "ipython",
    "version": 3
   },
   "file_extension": ".py",
   "mimetype": "text/x-python",
   "name": "python",
   "nbconvert_exporter": "python",
   "pygments_lexer": "ipython3",
   "version": "3.10.9"
  }
 },
 "nbformat": 4,
 "nbformat_minor": 2
}
