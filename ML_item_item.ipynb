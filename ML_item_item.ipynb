{
 "cells": [
  {
   "cell_type": "code",
   "execution_count": 300,
   "metadata": {},
   "outputs": [],
   "source": [
    "import pandas as pd\n",
    "import ast\n",
    "import numpy as np\n",
    "from sklearn.feature_extraction.text import TfidfVectorizer\n",
    "from sklearn.metrics.pairwise import cosine_similarity\n",
    "import pyarrow.parquet as pq\n",
    "import pyarrow as pa\n",
    "import matplotlib.pyplot as plt\n",
    "from sklearn.preprocessing import MinMaxScaler\n",
    "from sklearn.preprocessing import MultiLabelBinarizer"
   ]
  },
  {
   "cell_type": "code",
   "execution_count": 301,
   "metadata": {},
   "outputs": [],
   "source": [
    "games = pq.read_table(\"datasets/Parquet/games.parquet\").to_pandas()\n",
    "games = games[['id', 'app_name', 'price','release_year', 'genres']]"
   ]
  },
  {
   "cell_type": "code",
   "execution_count": 302,
   "metadata": {},
   "outputs": [
    {
     "data": {
      "text/html": [
       "<div>\n",
       "<style scoped>\n",
       "    .dataframe tbody tr th:only-of-type {\n",
       "        vertical-align: middle;\n",
       "    }\n",
       "\n",
       "    .dataframe tbody tr th {\n",
       "        vertical-align: top;\n",
       "    }\n",
       "\n",
       "    .dataframe thead th {\n",
       "        text-align: right;\n",
       "    }\n",
       "</style>\n",
       "<table border=\"1\" class=\"dataframe\">\n",
       "  <thead>\n",
       "    <tr style=\"text-align: right;\">\n",
       "      <th></th>\n",
       "      <th>id</th>\n",
       "      <th>app_name</th>\n",
       "      <th>price</th>\n",
       "      <th>release_year</th>\n",
       "      <th>genres</th>\n",
       "    </tr>\n",
       "  </thead>\n",
       "  <tbody>\n",
       "    <tr>\n",
       "      <th>0</th>\n",
       "      <td>761140</td>\n",
       "      <td>Lost Summoner Kitty</td>\n",
       "      <td>4.99</td>\n",
       "      <td>2018</td>\n",
       "      <td>[Strategy, Action, Indie, Casual, Simulation]</td>\n",
       "    </tr>\n",
       "    <tr>\n",
       "      <th>1</th>\n",
       "      <td>643980</td>\n",
       "      <td>Ironbound</td>\n",
       "      <td>0.00</td>\n",
       "      <td>2018</td>\n",
       "      <td>[Free to Play, Strategy, Indie, RPG]</td>\n",
       "    </tr>\n",
       "    <tr>\n",
       "      <th>2</th>\n",
       "      <td>670290</td>\n",
       "      <td>Real Pool 3D - Poolians</td>\n",
       "      <td>0.00</td>\n",
       "      <td>2017</td>\n",
       "      <td>[Free to Play, Simulation, Sports, Casual, Indie]</td>\n",
       "    </tr>\n",
       "    <tr>\n",
       "      <th>3</th>\n",
       "      <td>767400</td>\n",
       "      <td>弹炸人2222</td>\n",
       "      <td>0.99</td>\n",
       "      <td>2017</td>\n",
       "      <td>[Action, Adventure, Casual]</td>\n",
       "    </tr>\n",
       "    <tr>\n",
       "      <th>4</th>\n",
       "      <td>772540</td>\n",
       "      <td>Battle Royale Trainer</td>\n",
       "      <td>3.99</td>\n",
       "      <td>2018</td>\n",
       "      <td>[Action, Adventure, Simulation]</td>\n",
       "    </tr>\n",
       "  </tbody>\n",
       "</table>\n",
       "</div>"
      ],
      "text/plain": [
       "       id                 app_name  price  release_year  \\\n",
       "0  761140      Lost Summoner Kitty   4.99          2018   \n",
       "1  643980                Ironbound   0.00          2018   \n",
       "2  670290  Real Pool 3D - Poolians   0.00          2017   \n",
       "3  767400                  弹炸人2222   0.99          2017   \n",
       "4  772540    Battle Royale Trainer   3.99          2018   \n",
       "\n",
       "                                              genres  \n",
       "0      [Strategy, Action, Indie, Casual, Simulation]  \n",
       "1               [Free to Play, Strategy, Indie, RPG]  \n",
       "2  [Free to Play, Simulation, Sports, Casual, Indie]  \n",
       "3                        [Action, Adventure, Casual]  \n",
       "4                    [Action, Adventure, Simulation]  "
      ]
     },
     "execution_count": 302,
     "metadata": {},
     "output_type": "execute_result"
    }
   ],
   "source": [
    "games.head()"
   ]
  },
  {
   "cell_type": "markdown",
   "metadata": {},
   "source": [
    "## Preparación de los datos"
   ]
  },
  {
   "cell_type": "markdown",
   "metadata": {},
   "source": [
    "### Revisamos la columna 'price'"
   ]
  },
  {
   "cell_type": "code",
   "execution_count": 303,
   "metadata": {},
   "outputs": [
    {
     "data": {
      "image/png": "[encoded data removed]",
      "text/plain": [
       "<Figure size 720x432 with 1 Axes>"
      ]
     },
     "metadata": {
      "needs_background": "light"
     },
     "output_type": "display_data"
    }
   ],
   "source": [
    "plt.figure(figsize=(10, 6))\n",
    "plt.hist(games['price'], bins=10, edgecolor='black')\n",
    "plt.title('Columna Price')\n",
    "plt.xlabel('Price')\n",
    "plt.ylabel('cantidad')\n",
    "plt.grid(axis='y')\n",
    "plt.show()"
   ]
  },
  {
   "cell_type": "markdown",
   "metadata": {},
   "source": [
    "Notamos que la columna 'price' podría generar sesgo al tener solo valores positivos.\n",
    "\n",
    "Primero usamos una transformación logaritmica, para que sume 1 a cada valor antes de aplicar el logaritmo y evitar errores si el valor es 0.\n",
    "\n",
    "Usamos games['price'] = np.log1p(games['price']), pero los resultados arrojados no aparentan ser los mas útiles"
   ]
  },
  {
   "cell_type": "code",
   "execution_count": 304,
   "metadata": {},
   "outputs": [],
   "source": [
    "# Aplicar transformación logarítmica a la columna 'price'\n",
    "# games['price'] = np.log1p(games['price'])"
   ]
  },
  {
   "cell_type": "markdown",
   "metadata": {},
   "source": [
    "Así que optamos por usar una expresión lambda a la hora de hacer la transformación logarítmica a la columna 'price'"
   ]
  },
  {
   "cell_type": "code",
   "execution_count": 305,
   "metadata": {},
   "outputs": [],
   "source": [
    "# Aplicar transformación logarítmica a la columna 'price'\n",
    "games['price'] = games['price'].apply(lambda x: np.log(x + 1) if (pd.notna(x) and x > 0) else x)"
   ]
  },
  {
   "cell_type": "code",
   "execution_count": 306,
   "metadata": {},
   "outputs": [
    {
     "data": {
      "image/png": "[encoded data removed]",
      "text/plain": [
       "<Figure size 720x432 with 1 Axes>"
      ]
     },
     "metadata": {
      "needs_background": "light"
     },
     "output_type": "display_data"
    }
   ],
   "source": [
    "plt.figure(figsize=(10, 6))\n",
    "plt.hist(games['price'], bins=10, edgecolor='black')\n",
    "plt.title('Columna Price')\n",
    "plt.xlabel('Price')\n",
    "plt.ylabel('cantidad')\n",
    "plt.grid(axis='y')\n",
    "plt.show()"
   ]
  },
  {
   "cell_type": "markdown",
   "metadata": {},
   "source": [
    "Se redujo considerablemente el rango despues de usar la transformación logaritmica"
   ]
  },
  {
   "cell_type": "markdown",
   "metadata": {},
   "source": [
    "Ahora rellenaremos los valores faltantes con el valor promedio"
   ]
  },
  {
   "cell_type": "code",
   "execution_count": 307,
   "metadata": {},
   "outputs": [],
   "source": [
    "promedio = games['price'].mean()\n",
    "games['price'] = games['price'].fillna(promedio)"
   ]
  },
  {
   "cell_type": "markdown",
   "metadata": {},
   "source": [
    "### Filtro de outliers"
   ]
  },
  {
   "cell_type": "code",
   "execution_count": 308,
   "metadata": {},
   "outputs": [],
   "source": [
    "# Calcula el rango intercuartil (IQR) de la columna 'price'\n",
    "Q1 = games['price'].quantile(0.25)\n",
    "Q3 = games['price'].quantile(0.75)\n",
    "price_iqr = Q3 - Q1\n",
    "\n",
    "# Calcula los límites inferior y superior para identificar outliers\n",
    "lower_bound = Q1 - 1.5 * price_iqr\n",
    "upper_bound = Q3 + 1.5 * price_iqr\n",
    "\n",
    "# Filtra los outliers\n",
    "filtered_games = games[(games['price'] >= lower_bound) & (games['price'] <= upper_bound)]"
   ]
  },
  {
   "cell_type": "code",
   "execution_count": 309,
   "metadata": {},
   "outputs": [
    {
     "data": {
      "image/png": "[encoded data removed]",
      "text/plain": [
       "<Figure size 720x432 with 1 Axes>"
      ]
     },
     "metadata": {
      "needs_background": "light"
     },
     "output_type": "display_data"
    }
   ],
   "source": [
    "plt.figure(figsize=(10, 6))\n",
    "plt.hist(games['price'], bins=10, edgecolor='black')\n",
    "plt.title('Columna Price')\n",
    "plt.xlabel('Price')\n",
    "plt.ylabel('cantidad')\n",
    "plt.grid(axis='y')\n",
    "plt.show()"
   ]
  },
  {
   "cell_type": "markdown",
   "metadata": {},
   "source": [
    "La grafica quedó mas estable, teniendo en cuenta que se borraron los outliers"
   ]
  },
  {
   "cell_type": "markdown",
   "metadata": {},
   "source": [
    "### Columna 'release_year'"
   ]
  },
  {
   "cell_type": "code",
   "execution_count": 310,
   "metadata": {},
   "outputs": [
    {
     "name": "stdout",
     "output_type": "stream",
     "text": [
      "       id                 app_name     price  release_year  \\\n",
      "0  761140      Lost Summoner Kitty  1.790091      0.941176   \n",
      "1  643980                Ironbound  0.000000      0.941176   \n",
      "2  670290  Real Pool 3D - Poolians  0.000000      0.921569   \n",
      "3  767400                  弹炸人2222  0.688135      0.921569   \n",
      "4  772540    Battle Royale Trainer  1.607436      0.941176   \n",
      "\n",
      "                                              genres  \n",
      "0      [Strategy, Action, Indie, Casual, Simulation]  \n",
      "1               [Free to Play, Strategy, Indie, RPG]  \n",
      "2  [Free to Play, Simulation, Sports, Casual, Indie]  \n",
      "3                        [Action, Adventure, Casual]  \n",
      "4                    [Action, Adventure, Simulation]  \n"
     ]
    }
   ],
   "source": [
    "# Inicializa el MinMaxScaler\n",
    "scaler = MinMaxScaler()\n",
    "\n",
    "# Aplica la transformación a la columna release_year\n",
    "games['release_year'] = scaler.fit_transform(games[['release_year']])\n",
    "\n",
    "# Rellena los valores faltantes en la columna release_year con el promedio\n",
    "mean_release_year = games['release_year'].mean()\n",
    "games['release_year'] = games['release_year'].fillna(mean_release_year)\n",
    "\n",
    "# Muestra las primeras filas del DataFrame\n",
    "print(games.head())"
   ]
  },
  {
   "cell_type": "code",
   "execution_count": 311,
   "metadata": {},
   "outputs": [
    {
     "data": {
      "image/png": "[encoded data removed]",
      "text/plain": [
       "<Figure size 720x432 with 1 Axes>"
      ]
     },
     "metadata": {
      "needs_background": "light"
     },
     "output_type": "display_data"
    }
   ],
   "source": [
    "plt.figure(figsize=(10, 6))\n",
    "plt.hist(games['release_year'], bins=25, edgecolor='black')\n",
    "plt.xlabel('release_year')\n",
    "plt.ylabel('')\n",
    "plt.grid(axis='y')\n",
    "plt.show()"
   ]
  },
  {
   "cell_type": "markdown",
   "metadata": {},
   "source": [
    "### Filtro de outliers"
   ]
  },
  {
   "cell_type": "code",
   "execution_count": 312,
   "metadata": {},
   "outputs": [],
   "source": [
    "# Calcular los cuartiles Q1 y Q3\n",
    "q1_release_year = games['release_year'].quantile(0.25)\n",
    "q3_release_year = games['release_year'].quantile(0.75)\n",
    "\n",
    "# Calcular el rango intercuartílico (IQR) para release_year\n",
    "iqr_release_year = q3_release_year - q1_release_year\n",
    "\n",
    "# Calcular los límites inferior y superior para identificar valores atípicos\n",
    "limite_inferior_release_year = q1_release_year - 1.5 * iqr_release_year\n",
    "limite_superior_release_year = q3_release_year + 1.5 * iqr_release_year\n",
    "\n",
    "# Filtrar los datos de acuerdo con los límites inferior y superior\n",
    "games = games[(games['release_year'] >= limite_inferior_release_year) & (games['release_year'] <= limite_superior_release_year)]"
   ]
  },
  {
   "cell_type": "code",
   "execution_count": 313,
   "metadata": {},
   "outputs": [
    {
     "data": {
      "image/png": "[encoded data removed]",
      "text/plain": [
       "<Figure size 720x432 with 1 Axes>"
      ]
     },
     "metadata": {
      "needs_background": "light"
     },
     "output_type": "display_data"
    }
   ],
   "source": [
    "plt.figure(figsize=(10, 6))\n",
    "plt.hist(games['release_year'], bins=10, edgecolor='black')\n",
    "plt.xlabel('release_year')\n",
    "plt.ylabel('')\n",
    "plt.grid(axis='y')\n",
    "plt.show()"
   ]
  },
  {
   "cell_type": "markdown",
   "metadata": {},
   "source": [
    "La grafica quedó mas estable, teniendo en cuenta que se borraron los outliers"
   ]
  },
  {
   "cell_type": "markdown",
   "metadata": {},
   "source": [
    "### Transformación de la columna 'genres'"
   ]
  },
  {
   "cell_type": "markdown",
   "metadata": {},
   "source": [
    "Ahora vamos a transformar la columna 'genres' para que queden los generos mas utilizados para facilitar la creacion de dummies."
   ]
  },
  {
   "cell_type": "code",
   "execution_count": 314,
   "metadata": {},
   "outputs": [
    {
     "data": {
      "text/plain": [
       "genres\n",
       "Indie                     21.886509\n",
       "Action                    15.412631\n",
       "Adventure                 11.821034\n",
       "Casual                    11.662802\n",
       "Strategy                   9.416178\n",
       "Simulation                 9.159733\n",
       "RPG                        7.566498\n",
       "Free to Play               2.966853\n",
       "Early Access               1.969718\n",
       "Sports                     1.752830\n",
       "Massively Multiplayer      1.655981\n",
       "Racing                     1.428182\n",
       "Pending Classification     1.242668\n",
       "Utilities                  0.710681\n",
       "Education                  0.409221\n",
       "Web Publishing             0.372391\n",
       "Video Production           0.166417\n",
       "Software Training          0.156868\n",
       "Audio Production           0.136407\n",
       "Photo Editing              0.103669\n",
       "Accounting                 0.002728\n",
       "Name: count, dtype: float64"
      ]
     },
     "execution_count": 314,
     "metadata": {},
     "output_type": "execute_result"
    }
   ],
   "source": [
    "#Separamos los géneros por filas\n",
    "generos_games = games.explode('genres')\n",
    "\n",
    "#Obtención del porcentage\n",
    "generos_games['genres'].value_counts()/generos_games.shape[0]*100"
   ]
  },
  {
   "cell_type": "markdown",
   "metadata": {},
   "source": [
    "Las primeras 7 columnas representan una gran mayoría de los datos (85%)\n",
    " así que vamos a utilizar esas columnas y agrupar el resto por una nueva llamada 'other"
   ]
  },
  {
   "cell_type": "markdown",
   "metadata": {},
   "source": [
    "Ahora transformamos la columna 'genres' usando one-hot encoding"
   ]
  },
  {
   "cell_type": "code",
   "execution_count": 315,
   "metadata": {},
   "outputs": [],
   "source": [
    "# Eliminar filas con valores nulos en la columna 'genres'\n",
    "ames = games.dropna(subset=['genres'])\n",
    "\n",
    "# Crear un objeto MultiLabelBinarizer para la codificación one-hot\n",
    "mlb = MultiLabelBinarizer()\n",
    "\n",
    "# Aplicar la codificación one-hot a la columna \"genres\"\n",
    "generos_one_hot = pd.DataFrame(mlb.fit_transform(games['genres']), columns=mlb.classes_, index=games.index)\n",
    "\n",
    "# Definir las categorías que se deben mantener como columnas one-hot\n",
    "categorias = ['Indie', 'Action', 'Adventure', 'Casual', 'Simulation', 'Strategy', 'RPG']\n",
    "\n",
    "# Crear una nueva columna 'otros' que agrupe las categorías no seleccionadas\n",
    "games['other'] = generos_one_hot.drop(columns=categorias).max(axis=1)\n",
    "\n",
    "# Concatenamos el dataframe\n",
    "games = pd.concat([games, generos_one_hot[categorias]], axis=1)\n",
    "\n",
    "# Eliminar la columna 'genres'\n",
    "games = games.drop('genres', axis=1)"
   ]
  },
  {
   "cell_type": "code",
   "execution_count": 316,
   "metadata": {},
   "outputs": [
    {
     "data": {
      "text/html": [
       "<div>\n",
       "<style scoped>\n",
       "    .dataframe tbody tr th:only-of-type {\n",
       "        vertical-align: middle;\n",
       "    }\n",
       "\n",
       "    .dataframe tbody tr th {\n",
       "        vertical-align: top;\n",
       "    }\n",
       "\n",
       "    .dataframe thead th {\n",
       "        text-align: right;\n",
       "    }\n",
       "</style>\n",
       "<table border=\"1\" class=\"dataframe\">\n",
       "  <thead>\n",
       "    <tr style=\"text-align: right;\">\n",
       "      <th></th>\n",
       "      <th>id</th>\n",
       "      <th>app_name</th>\n",
       "      <th>price</th>\n",
       "      <th>release_year</th>\n",
       "      <th>other</th>\n",
       "      <th>Indie</th>\n",
       "      <th>Action</th>\n",
       "      <th>Adventure</th>\n",
       "      <th>Casual</th>\n",
       "      <th>Simulation</th>\n",
       "      <th>Strategy</th>\n",
       "      <th>RPG</th>\n",
       "    </tr>\n",
       "  </thead>\n",
       "  <tbody>\n",
       "    <tr>\n",
       "      <th>0</th>\n",
       "      <td>761140</td>\n",
       "      <td>Lost Summoner Kitty</td>\n",
       "      <td>1.790091</td>\n",
       "      <td>0.941176</td>\n",
       "      <td>0</td>\n",
       "      <td>1</td>\n",
       "      <td>1</td>\n",
       "      <td>0</td>\n",
       "      <td>1</td>\n",
       "      <td>1</td>\n",
       "      <td>1</td>\n",
       "      <td>0</td>\n",
       "    </tr>\n",
       "    <tr>\n",
       "      <th>1</th>\n",
       "      <td>643980</td>\n",
       "      <td>Ironbound</td>\n",
       "      <td>0.000000</td>\n",
       "      <td>0.941176</td>\n",
       "      <td>1</td>\n",
       "      <td>1</td>\n",
       "      <td>0</td>\n",
       "      <td>0</td>\n",
       "      <td>0</td>\n",
       "      <td>0</td>\n",
       "      <td>1</td>\n",
       "      <td>1</td>\n",
       "    </tr>\n",
       "    <tr>\n",
       "      <th>2</th>\n",
       "      <td>670290</td>\n",
       "      <td>Real Pool 3D - Poolians</td>\n",
       "      <td>0.000000</td>\n",
       "      <td>0.921569</td>\n",
       "      <td>1</td>\n",
       "      <td>1</td>\n",
       "      <td>0</td>\n",
       "      <td>0</td>\n",
       "      <td>1</td>\n",
       "      <td>1</td>\n",
       "      <td>0</td>\n",
       "      <td>0</td>\n",
       "    </tr>\n",
       "    <tr>\n",
       "      <th>3</th>\n",
       "      <td>767400</td>\n",
       "      <td>弹炸人2222</td>\n",
       "      <td>0.688135</td>\n",
       "      <td>0.921569</td>\n",
       "      <td>0</td>\n",
       "      <td>0</td>\n",
       "      <td>1</td>\n",
       "      <td>1</td>\n",
       "      <td>1</td>\n",
       "      <td>0</td>\n",
       "      <td>0</td>\n",
       "      <td>0</td>\n",
       "    </tr>\n",
       "    <tr>\n",
       "      <th>4</th>\n",
       "      <td>772540</td>\n",
       "      <td>Battle Royale Trainer</td>\n",
       "      <td>1.607436</td>\n",
       "      <td>0.941176</td>\n",
       "      <td>0</td>\n",
       "      <td>0</td>\n",
       "      <td>1</td>\n",
       "      <td>1</td>\n",
       "      <td>0</td>\n",
       "      <td>1</td>\n",
       "      <td>0</td>\n",
       "      <td>0</td>\n",
       "    </tr>\n",
       "    <tr>\n",
       "      <th>...</th>\n",
       "      <td>...</td>\n",
       "      <td>...</td>\n",
       "      <td>...</td>\n",
       "      <td>...</td>\n",
       "      <td>...</td>\n",
       "      <td>...</td>\n",
       "      <td>...</td>\n",
       "      <td>...</td>\n",
       "      <td>...</td>\n",
       "      <td>...</td>\n",
       "      <td>...</td>\n",
       "      <td>...</td>\n",
       "    </tr>\n",
       "    <tr>\n",
       "      <th>29956</th>\n",
       "      <td>745400</td>\n",
       "      <td>Kebab it Up!</td>\n",
       "      <td>1.095273</td>\n",
       "      <td>0.941176</td>\n",
       "      <td>0</td>\n",
       "      <td>1</td>\n",
       "      <td>1</td>\n",
       "      <td>1</td>\n",
       "      <td>1</td>\n",
       "      <td>0</td>\n",
       "      <td>0</td>\n",
       "      <td>0</td>\n",
       "    </tr>\n",
       "    <tr>\n",
       "      <th>29957</th>\n",
       "      <td>773640</td>\n",
       "      <td>Colony On Mars</td>\n",
       "      <td>1.095273</td>\n",
       "      <td>0.941176</td>\n",
       "      <td>0</td>\n",
       "      <td>1</td>\n",
       "      <td>0</td>\n",
       "      <td>0</td>\n",
       "      <td>1</td>\n",
       "      <td>1</td>\n",
       "      <td>1</td>\n",
       "      <td>0</td>\n",
       "    </tr>\n",
       "    <tr>\n",
       "      <th>29958</th>\n",
       "      <td>733530</td>\n",
       "      <td>LOGistICAL: South Africa</td>\n",
       "      <td>1.790091</td>\n",
       "      <td>0.941176</td>\n",
       "      <td>0</td>\n",
       "      <td>1</td>\n",
       "      <td>0</td>\n",
       "      <td>0</td>\n",
       "      <td>1</td>\n",
       "      <td>0</td>\n",
       "      <td>1</td>\n",
       "      <td>0</td>\n",
       "    </tr>\n",
       "    <tr>\n",
       "      <th>29959</th>\n",
       "      <td>610660</td>\n",
       "      <td>Russian Roads</td>\n",
       "      <td>1.095273</td>\n",
       "      <td>0.941176</td>\n",
       "      <td>1</td>\n",
       "      <td>1</td>\n",
       "      <td>0</td>\n",
       "      <td>0</td>\n",
       "      <td>0</td>\n",
       "      <td>1</td>\n",
       "      <td>0</td>\n",
       "      <td>0</td>\n",
       "    </tr>\n",
       "    <tr>\n",
       "      <th>29960</th>\n",
       "      <td>658870</td>\n",
       "      <td>EXIT 2 - Directions</td>\n",
       "      <td>1.790091</td>\n",
       "      <td>0.921569</td>\n",
       "      <td>0</td>\n",
       "      <td>1</td>\n",
       "      <td>0</td>\n",
       "      <td>0</td>\n",
       "      <td>1</td>\n",
       "      <td>0</td>\n",
       "      <td>0</td>\n",
       "      <td>0</td>\n",
       "    </tr>\n",
       "  </tbody>\n",
       "</table>\n",
       "<p>28270 rows × 12 columns</p>\n",
       "</div>"
      ],
      "text/plain": [
       "           id                  app_name     price  release_year  other  Indie  \\\n",
       "0      761140       Lost Summoner Kitty  1.790091      0.941176      0      1   \n",
       "1      643980                 Ironbound  0.000000      0.941176      1      1   \n",
       "2      670290   Real Pool 3D - Poolians  0.000000      0.921569      1      1   \n",
       "3      767400                   弹炸人2222  0.688135      0.921569      0      0   \n",
       "4      772540     Battle Royale Trainer  1.607436      0.941176      0      0   \n",
       "...       ...                       ...       ...           ...    ...    ...   \n",
       "29956  745400              Kebab it Up!  1.095273      0.941176      0      1   \n",
       "29957  773640            Colony On Mars  1.095273      0.941176      0      1   \n",
       "29958  733530  LOGistICAL: South Africa  1.790091      0.941176      0      1   \n",
       "29959  610660             Russian Roads  1.095273      0.941176      1      1   \n",
       "29960  658870       EXIT 2 - Directions  1.790091      0.921569      0      1   \n",
       "\n",
       "       Action  Adventure  Casual  Simulation  Strategy  RPG  \n",
       "0           1          0       1           1         1    0  \n",
       "1           0          0       0           0         1    1  \n",
       "2           0          0       1           1         0    0  \n",
       "3           1          1       1           0         0    0  \n",
       "4           1          1       0           1         0    0  \n",
       "...       ...        ...     ...         ...       ...  ...  \n",
       "29956       1          1       1           0         0    0  \n",
       "29957       0          0       1           1         1    0  \n",
       "29958       0          0       1           0         1    0  \n",
       "29959       0          0       0           1         0    0  \n",
       "29960       0          0       1           0         0    0  \n",
       "\n",
       "[28270 rows x 12 columns]"
      ]
     },
     "execution_count": 316,
     "metadata": {},
     "output_type": "execute_result"
    }
   ],
   "source": [
    "games"
   ]
  },
  {
   "cell_type": "code",
   "execution_count": 318,
   "metadata": {},
   "outputs": [],
   "source": [
    "# Seleccionar todas las características relevantes para la similitud coseno\n",
    "caracteristicas = games[['Indie', 'Action', 'Adventure', 'Casual', 'Simulation', 'Strategy', 'RPG', 'price', 'release_year']]\n",
    "\n",
    "# Calcular la similitud coseno entre los juegos\n",
    "matriz_similitud = cosine_similarity(caracteristicas, caracteristicas)\n",
    "\n",
    "# Crear un diccionario para almacenar las recomendaciones\n",
    "num_recommendaciones = 5\n",
    "recomendaciones_dict = {}\n",
    "\n",
    "for idx in range(len(matriz_similitud)):\n",
    "    # Obtener las similitudes para el juego actual\n",
    "    similitud = matriz_similitud[idx]\n",
    "\n",
    "    # Enumerar las similitudes y obtener los índices ordenados\n",
    "    juegos_similares = sorted(list(enumerate(similitud)), key=lambda x: x[1], reverse=True)\n",
    "\n",
    "    # Excluir el propio juego de las recomendaciones\n",
    "    juegos_similares = [juego for juego in juegos_similares if juego[0] != idx]\n",
    "\n",
    "    # Tomar los primeros 5 juegos como recomendaciones, asegurándose de que el índice exista en el DataFrame\n",
    "    recomendaciones_dict[games.iloc[idx]['id']] = [games.iloc[juego[0]]['app_name'] for juego in juegos_similares[:num_recommendaciones] if juego[0] in games.index]\n",
    "\n",
    "# Convertir el diccionario en un DataFrame\n",
    "recomendaciones_df = pd.DataFrame(recomendaciones_dict.items(), columns=['id', 'recomendaciones'])\n",
    "\n",
    "# Fusionar el DataFrame de recomendaciones con el DataFrame original para obtener el nombre del juego\n",
    "df_recomendaciones = pd.merge(recomendaciones_df, games[['id', 'app_name']], on='id')"
   ]
  },
  {
   "cell_type": "markdown",
   "metadata": {},
   "source": [
    "Con esto creamos un dataframe donde se le asignaron 5 recomendaciones a cada juego"
   ]
  },
  {
   "cell_type": "code",
   "execution_count": 326,
   "metadata": {},
   "outputs": [
    {
     "data": {
      "text/html": [
       "<div>\n",
       "<style scoped>\n",
       "    .dataframe tbody tr th:only-of-type {\n",
       "        vertical-align: middle;\n",
       "    }\n",
       "\n",
       "    .dataframe tbody tr th {\n",
       "        vertical-align: top;\n",
       "    }\n",
       "\n",
       "    .dataframe thead th {\n",
       "        text-align: right;\n",
       "    }\n",
       "</style>\n",
       "<table border=\"1\" class=\"dataframe\">\n",
       "  <thead>\n",
       "    <tr style=\"text-align: right;\">\n",
       "      <th></th>\n",
       "      <th>id</th>\n",
       "      <th>recomendaciones</th>\n",
       "      <th>app_name</th>\n",
       "    </tr>\n",
       "  </thead>\n",
       "  <tbody>\n",
       "    <tr>\n",
       "      <th>0</th>\n",
       "      <td>761140</td>\n",
       "      <td>[Trivia Vault: Mixed Trivia, Vertical Strike E...</td>\n",
       "      <td>Lost Summoner Kitty</td>\n",
       "    </tr>\n",
       "    <tr>\n",
       "      <th>1</th>\n",
       "      <td>643980</td>\n",
       "      <td>[Fort Triumph, Heroes of Arca, Fantasy Grounds...</td>\n",
       "      <td>Ironbound</td>\n",
       "    </tr>\n",
       "    <tr>\n",
       "      <th>2</th>\n",
       "      <td>670290</td>\n",
       "      <td>[Canvas The Gallery, AIRIS, Anomalies - Sights...</td>\n",
       "      <td>Real Pool 3D - Poolians</td>\n",
       "    </tr>\n",
       "    <tr>\n",
       "      <th>3</th>\n",
       "      <td>767400</td>\n",
       "      <td>[Cyber Utopia - Artworks., Crazy Catman, Luke ...</td>\n",
       "      <td>弹炸人2222</td>\n",
       "    </tr>\n",
       "    <tr>\n",
       "      <th>4</th>\n",
       "      <td>772540</td>\n",
       "      <td>[Rocket Craze 3D, Fapic, Beyond Space Remaster...</td>\n",
       "      <td>Battle Royale Trainer</td>\n",
       "    </tr>\n",
       "  </tbody>\n",
       "</table>\n",
       "</div>"
      ],
      "text/plain": [
       "       id                                    recomendaciones  \\\n",
       "0  761140  [Trivia Vault: Mixed Trivia, Vertical Strike E...   \n",
       "1  643980  [Fort Triumph, Heroes of Arca, Fantasy Grounds...   \n",
       "2  670290  [Canvas The Gallery, AIRIS, Anomalies - Sights...   \n",
       "3  767400  [Cyber Utopia - Artworks., Crazy Catman, Luke ...   \n",
       "4  772540  [Rocket Craze 3D, Fapic, Beyond Space Remaster...   \n",
       "\n",
       "                  app_name  \n",
       "0      Lost Summoner Kitty  \n",
       "1                Ironbound  \n",
       "2  Real Pool 3D - Poolians  \n",
       "3                  弹炸人2222  \n",
       "4    Battle Royale Trainer  "
      ]
     },
     "execution_count": 326,
     "metadata": {},
     "output_type": "execute_result"
    }
   ],
   "source": [
    "df_recomendaciones.head()"
   ]
  },
  {
   "cell_type": "code",
   "execution_count": 337,
   "metadata": {},
   "outputs": [],
   "source": [
    "# Exportamos df_recomendaciones en formato parquet\n",
    "tabla = pa.Table.from_pandas(df_recomendaciones)\n",
    "pq.write_table(tabla,\"datasets/Parquet/EP_ML_recomendacion.parquet\")"
   ]
  }
 ],
 "metadata": {
  "kernelspec": {
   "display_name": "Python 3",
   "language": "python",
   "name": "python3"
  },
  "language_info": {
   "codemirror_mode": {
    "name": "ipython",
    "version": 3
   },
   "file_extension": ".py",
   "mimetype": "text/x-python",
   "name": "python",
   "nbconvert_exporter": "python",
   "pygments_lexer": "ipython3",
   "version": "3.10.9"
  }
 },
 "nbformat": 4,
 "nbformat_minor": 2
}
